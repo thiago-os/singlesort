{
 "cells": [
  {
   "cell_type": "markdown",
   "id": "2755a90e",
   "metadata": {},
   "source": [
    "# My tentative \"unit test\" of the Models class...\n",
    "\n",
    "- Implement \"BM\" investment (select largest 3 assets, using market cap weights)\n",
    "- Implement \"size\" (select smallest 5 assets, using stddev as weights).\n",
    "- Compare with Excel solution"
   ]
  },
  {
   "cell_type": "markdown",
   "id": "4280a29f",
   "metadata": {},
   "source": [
    "# Required packages"
   ]
  },
  {
   "cell_type": "code",
   "execution_count": 1,
   "id": "f3aaa0c2",
   "metadata": {},
   "outputs": [],
   "source": [
    "import numpy as np\n",
    "import pandas as pd\n",
    "import matplotlib.pyplot as plt\n",
    "\n",
    "# Just to show pretty figures:\n",
    "%matplotlib inline\n",
    "%config InlineBackend.figure_format = 'svg'\n",
    "import os\n",
    "\n",
    "# Module with the class that solves the problem:\n",
    "from Models import *"
   ]
  },
  {
   "cell_type": "markdown",
   "id": "4f7ba259",
   "metadata": {},
   "source": [
    "# Data  (and set the tolerance for equality of results)"
   ]
  },
  {
   "cell_type": "code",
   "execution_count": 2,
   "id": "a63595bf",
   "metadata": {},
   "outputs": [],
   "source": [
    "tolerance = 1e-8\n",
    "\n",
    "data_dir = \"../data/\"\n",
    "\n",
    "excel_file = 'testData.xlsx'\n",
    "\n",
    "data = {}\n",
    "\n",
    "for x in ['Prices', 'BM', 'Size', 'StdDev', 'Output 5Size-StdDev', 'Output 3BM-MktCap', 'Returns']:\n",
    "    df = pd.read_excel(os.path.join(os.getcwd(), data_dir, excel_file), sheet_name=x)\n",
    "    \n",
    "    # Fix the date:\n",
    "    df.date = pd.to_datetime(df.date, format='%Y-%m-%d')\n",
    "    df = df.set_index('date')\n",
    "    data[x] = df.copy()"
   ]
  },
  {
   "cell_type": "markdown",
   "id": "e2087508",
   "metadata": {},
   "source": [
    "# Funtion to test equal results"
   ]
  },
  {
   "cell_type": "code",
   "execution_count": 3,
   "id": "398aeb54",
   "metadata": {},
   "outputs": [],
   "source": [
    "def compare2Excel(mod, solution):\n",
    "    \n",
    "    print('Model name: ', mod.name)\n",
    "    \n",
    "    # returns in each period:\n",
    "    mod.calculatePerformance()\n",
    "    \n",
    "    # check if within tolerance from excel result:\n",
    "    if abs(mod.performance[mod.name] - data[solution]['Portfolio']).max() < tolerance:\n",
    "        print('\\n OK 1 period returns for tolerance ', tolerance)\n",
    "    else:\n",
    "        print('\\n FAIL 1 period returns for tolerance ', tolerance)\n",
    "        \n",
    "    # Cumulative returns:\n",
    "    mod.compareCumulative(compareStarts=False, rLabel=False, showGraph=False)\n",
    "\n",
    "    if abs(mod.compare['Cum. ' + mod.name] - data[solution]['Cumulative']).max() < tolerance:\n",
    "        print('\\n OK cumulative returns for tolerance ', tolerance)\n",
    "    else:\n",
    "        print('\\n FAIL cumulative returns for tolerance ', tolerance)\n",
    "        \n",
    "    print('\\n')\n"
   ]
  },
  {
   "cell_type": "markdown",
   "id": "513e9f67",
   "metadata": {},
   "source": [
    "# Put models in a dictionary"
   ]
  },
  {
   "cell_type": "code",
   "execution_count": 4,
   "id": "302b7e53",
   "metadata": {},
   "outputs": [],
   "source": [
    "models_dict = {}\n",
    "solutionExcel = {}\n",
    "\n",
    "# Model 1\n",
    "#########\n",
    "\n",
    "key = ('BM')\n",
    "\n",
    "models_dict[key] = Models(key, \n",
    "                          name='BM',\n",
    "                          assetsN=3,\n",
    "                          targetLow=False)\n",
    "# The 3 matrices:\n",
    "models_dict[key].classifVariable = data['BM']\n",
    "models_dict[key].baseWeights = data['Size']\n",
    "models_dict[key].basePrices = data['Prices']\n",
    "#models_dict[key].baseReturns = data['Returns']\n",
    "\n",
    "solutionExcel[key] = 'Output 3BM-MktCap'\n",
    "\n",
    "\n",
    "# Model 2\n",
    "#########\n",
    "\n",
    "key = ('MktCap')\n",
    "\n",
    "models_dict[key] = Models(key, \n",
    "                          name='Size',\n",
    "                          assetsN=5,\n",
    "                          targetLow=True)\n",
    "\n",
    "# The 3 matrices:\n",
    "models_dict[key].classifVariable = data['Size']\n",
    "models_dict[key].baseWeights = data['StdDev']\n",
    "models_dict[key].basePrices = data['Prices']\n",
    "#models_dict[key].baseReturns = data['Returns']\n",
    "\n",
    "solutionExcel[key] = 'Output 5Size-StdDev'"
   ]
  },
  {
   "cell_type": "markdown",
   "id": "fc0d9700",
   "metadata": {},
   "source": [
    "# Test all models"
   ]
  },
  {
   "cell_type": "code",
   "execution_count": 5,
   "id": "4c8d9774",
   "metadata": {},
   "outputs": [
    {
     "name": "stdout",
     "output_type": "stream",
     "text": [
      "Model name:  BM\n",
      "Warning: baseReturns automatically calculated from basePrices.\n",
      "\n",
      " OK 1 period returns for tolerance  1e-08\n",
      "\n",
      " OK cumulative returns for tolerance  1e-08\n",
      "\n",
      "\n",
      "Model name:  Size\n",
      "Warning: baseReturns automatically calculated from basePrices.\n",
      "\n",
      " OK 1 period returns for tolerance  1e-08\n",
      "\n",
      " OK cumulative returns for tolerance  1e-08\n",
      "\n",
      "\n"
     ]
    }
   ],
   "source": [
    "for key in models_dict:\n",
    "    compare2Excel(models_dict[key], solutionExcel[key])"
   ]
  },
  {
   "cell_type": "code",
   "execution_count": null,
   "id": "3e5a1ebc",
   "metadata": {},
   "outputs": [],
   "source": []
  }
 ],
 "metadata": {
  "jupytext": {
   "cell_metadata_filter": "-all",
   "main_language": "python",
   "notebook_metadata_filter": "-all"
  },
  "kernelspec": {
   "display_name": "Python 3",
   "language": "python",
   "name": "python3"
  },
  "language_info": {
   "codemirror_mode": {
    "name": "ipython",
    "version": 3
   },
   "file_extension": ".py",
   "mimetype": "text/x-python",
   "name": "python",
   "nbconvert_exporter": "python",
   "pygments_lexer": "ipython3",
   "version": "3.9.4"
  },
  "latex_envs": {
   "LaTeX_envs_menu_present": true,
   "autoclose": false,
   "autocomplete": true,
   "bibliofile": "biblio.bib",
   "cite_by": "apalike",
   "current_citInitial": 1,
   "eqLabelWithNumbers": true,
   "eqNumInitial": 1,
   "hotkeys": {
    "equation": "Ctrl-E",
    "itemize": "Ctrl-I"
   },
   "labels_anchors": false,
   "latex_user_defs": false,
   "report_style_numbering": false,
   "user_envs_cfg": false
  },
  "toc": {
   "base_numbering": 1,
   "nav_menu": {},
   "number_sections": true,
   "sideBar": true,
   "skip_h1_title": false,
   "title_cell": "Table of Contents",
   "title_sidebar": "Contents",
   "toc_cell": false,
   "toc_position": {},
   "toc_section_display": true,
   "toc_window_display": false
  },
  "varInspector": {
   "cols": {
    "lenName": 16,
    "lenType": 16,
    "lenVar": 40
   },
   "kernels_config": {
    "python": {
     "delete_cmd_postfix": "",
     "delete_cmd_prefix": "del ",
     "library": "var_list.py",
     "varRefreshCmd": "print(var_dic_list())"
    },
    "r": {
     "delete_cmd_postfix": ") ",
     "delete_cmd_prefix": "rm(",
     "library": "var_list.r",
     "varRefreshCmd": "cat(var_dic_list()) "
    }
   },
   "types_to_exclude": [
    "module",
    "function",
    "builtin_function_or_method",
    "instance",
    "_Feature"
   ],
   "window_display": false
  }
 },
 "nbformat": 4,
 "nbformat_minor": 5
}
